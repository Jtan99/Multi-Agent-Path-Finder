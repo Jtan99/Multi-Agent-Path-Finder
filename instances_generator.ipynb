{
 "cells": [
  {
   "cell_type": "code",
   "execution_count": null,
   "metadata": {},
   "outputs": [],
   "source": [
    "import random\n",
    "\n",
    "def make_empty_instance(filename, rows, cols, agents):\n",
    "    file = open(filename, 'w')\n",
    "    locs_generated = 0\n",
    "    \n",
    "    locations = []\n",
    "    while (locs_generated < agents*2):\n",
    "        rand_loc = (random.randint(1,rows-1), random.randint(1,cols-1))\n",
    "        if (rand_loc not in locations):\n",
    "            locations.append(rand_loc)\n",
    "            locs_generated += 1\n",
    "    \n",
    "    start_locs = locations[:agents]\n",
    "    goal_locs = locations[agents:]\n",
    "    \n",
    "    border = '@ ' * (cols+2) + '\\n'\n",
    "    file.write(f'{cols+2} {rows+2}\\n')\n",
    "    file.write(border)\n",
    "    for r in range(rows):\n",
    "        row = '@ '\n",
    "        for c in range(cols):\n",
    "            if ((r,c) in start_locs):\n",
    "                row += 'S '\n",
    "            elif ((r,c) in goal_locs):\n",
    "                row += 'G '\n",
    "            else:\n",
    "                if (random.randint(1,10) <= 6):\n",
    "                    row += '@ '\n",
    "                else:\n",
    "                    row += '. '\n",
    "        row += '@'\n",
    "        file.write(row + '\\n')\n",
    "    file.write(border)\n",
    "    file.write(str(agents)+'\\n')\n",
    "    for i in range(agents):\n",
    "        res = f'{start_locs[i][0]+1} {start_locs[i][1]+1} {goal_locs[i][0]+1} {goal_locs[i][1]+1}\\n'\n",
    "        file.write(res)\n",
    "    "
   ]
  },
  {
   "cell_type": "code",
   "execution_count": null,
   "metadata": {},
   "outputs": [],
   "source": [
    "for i in range(1,15):\n",
    "    filename = 'more_walls/high_density/instance_' + str(i) + '.txt'\n",
    "    make_empty_instance(filename,10,10,8)\n"
   ]
  },
  {
   "cell_type": "code",
   "execution_count": null,
   "metadata": {},
   "outputs": [],
   "source": [
    "### TESTS/ single file maker\n",
    "# filename = 'more_agents/low_density/instance_1.txt'\n",
    "# make_empty_instance(filename,10,10, 5)\n",
    "\n",
    "# filename = 'more_agents/med_density/instance_1.txt'\n",
    "# make_empty_instance(filename,10,10, 10)\n",
    "\n",
    "# filename = 'more_agents/high_density/instance_1.txt'\n",
    "# make_empty_instance(filename,10,10, 15)"
   ]
  },
  {
   "cell_type": "code",
   "execution_count": null,
   "metadata": {},
   "outputs": [],
   "source": []
  }
 ],
 "metadata": {
  "interpreter": {
   "hash": "10c3026f1289dbf037752cc9747463848e628156eb49370db5f4abd2b713cd63"
  },
  "kernelspec": {
   "display_name": "Python 3.9.5 64-bit",
   "language": "python",
   "name": "python3"
  },
  "language_info": {
   "codemirror_mode": {
    "name": "ipython",
    "version": 3
   },
   "file_extension": ".py",
   "mimetype": "text/x-python",
   "name": "python",
   "nbconvert_exporter": "python",
   "pygments_lexer": "ipython3",
   "version": "3.9.5"
  },
  "orig_nbformat": 4
 },
 "nbformat": 4,
 "nbformat_minor": 2
}
